{
 "cells": [
  {
   "cell_type": "code",
   "execution_count": 11,
   "metadata": {},
   "outputs": [],
   "source": [
    "import os\n",
    "import shutil\n",
    "import glob\n",
    "from tqdm import tqdm"
   ]
  },
  {
   "cell_type": "code",
   "execution_count": 12,
   "metadata": {
    "scrolled": false
   },
   "outputs": [
    {
     "name": "stderr",
     "output_type": "stream",
     "text": [
      "0it [00:00, ?it/s]\n",
      "100%|█████████████████████████████████████████████████████████████████████████████| 3242/3242 [00:03<00:00, 887.27it/s]\n",
      "100%|█████████████████████████████████████████████████████████████████████████████| 1114/1114 [00:01<00:00, 929.56it/s]\n",
      "100%|██████████████████████████████████████████████████████████████████████████████| 679/679 [00:00<00:00, 1078.08it/s]\n",
      "100%|█████████████████████████████████████████████████████████████████████████████| 1069/1069 [00:01<00:00, 875.64it/s]\n",
      "100%|███████████████████████████████████████████████████████████████████████████████| 736/736 [00:02<00:00, 285.50it/s]\n",
      "100%|█████████████████████████████████████████████████████████████████████████████| 1012/1012 [00:05<00:00, 181.19it/s]\n",
      "100%|███████████████████████████████████████████████████████████████████████████████| 624/624 [00:03<00:00, 185.07it/s]\n",
      "100%|███████████████████████████████████████████████████████████████████████████████| 832/832 [00:04<00:00, 186.57it/s]\n",
      "100%|███████████████████████████████████████████████████████████████████████████████| 387/387 [00:02<00:00, 156.20it/s]\n",
      "100%|███████████████████████████████████████████████████████████████████████████████| 399/399 [00:02<00:00, 176.41it/s]\n",
      "100%|█████████████████████████████████████████████████████████████████████████████| 1648/1648 [00:08<00:00, 184.57it/s]\n",
      "100%|█████████████████████████████████████████████████████████████████████████████| 8728/8728 [00:47<00:00, 183.33it/s]\n",
      "100%|█████████████████████████████████████████████████████████████████████████████| 3605/3605 [00:19<00:00, 181.37it/s]\n",
      "100%|█████████████████████████████████████████████████████████████████████████████| 8884/8884 [00:47<00:00, 186.66it/s]\n",
      "100%|█████████████████████████████████████████████████████████████████████████████| 1132/1132 [00:05<00:00, 199.72it/s]\n",
      "100%|█████████████████████████████████████████████████████████████████████████████| 1889/1889 [00:10<00:00, 184.15it/s]\n",
      "100%|█████████████████████████████████████████████████████████████████████████████| 1648/1648 [00:09<00:00, 180.88it/s]\n",
      "100%|█████████████████████████████████████████████████████████████████████████████| 4410/4410 [00:24<00:00, 179.32it/s]\n",
      "100%|█████████████████████████████████████████████████████████████████████████████| 6175/6175 [00:35<00:00, 172.50it/s]\n",
      "100%|███████████████████████████████████████████████████████████████████████████████| 704/704 [00:04<00:00, 161.25it/s]\n",
      "100%|███████████████████████████████████████████████████████████████████████████████| 987/987 [00:06<00:00, 152.02it/s]\n",
      "100%|███████████████████████████████████████████████████████████████████████████████| 382/382 [00:02<00:00, 185.26it/s]\n",
      "100%|███████████████████████████████████████████████████████████████████████████████| 522/522 [00:03<00:00, 162.49it/s]\n",
      "100%|███████████████████████████████████████████████████████████████████████████████| 752/752 [00:04<00:00, 172.41it/s]\n",
      "100%|█████████████████████████████████████████████████████████████████████████████| 1502/1502 [00:09<00:00, 155.93it/s]\n",
      "100%|█████████████████████████████████████████████████████████████████████████████| 1246/1246 [00:08<00:00, 143.69it/s]\n",
      "100%|███████████████████████████████████████████████████████████████████████████████| 665/665 [00:03<00:00, 172.22it/s]\n",
      "100%|███████████████████████████████████████████████████████████████████████████████| 736/736 [00:04<00:00, 157.08it/s]\n",
      "100%|█████████████████████████████████████████████████████████████████████████████| 1393/1393 [00:08<00:00, 169.65it/s]\n",
      "100%|█████████████████████████████████████████████████████████████████████████████| 1384/1384 [00:08<00:00, 164.06it/s]\n",
      "100%|█████████████████████████████████████████████████████████████████████████████| 1738/1738 [00:09<00:00, 175.11it/s]\n",
      "100%|█████████████████████████████████████████████████████████████████████████████| 6162/6162 [00:35<00:00, 173.18it/s]\n",
      "100%|███████████████████████████████████████████████████████████████████████████████| 681/681 [00:03<00:00, 173.59it/s]\n",
      "100%|███████████████████████████████████████████████████████████████████████████████| 739/739 [00:04<00:00, 153.10it/s]\n",
      "100%|███████████████████████████████████████████████████████████████████████████████| 642/642 [00:04<00:00, 144.91it/s]\n",
      "100%|█████████████████████████████████████████████████████████████████████████████| 6193/6193 [00:37<00:00, 164.26it/s]\n",
      "100%|███████████████████████████████████████████████████████████████████████████| 10257/10257 [01:00<00:00, 169.96it/s]\n"
     ]
    }
   ],
   "source": [
    "raw = r\"D:\\BNMIT\\6th sem\\DIP\\papers\\mrlEyes_2018_01\\mrlEyes_2018_01\"\n",
    "for dirpath, dirname, filenames in os.walk(raw):\n",
    "    for i in tqdm([f for f in filenames if f.endswith('.png')]):\n",
    "        if i.split('_')[4]=='0':\n",
    "            shutil.copy(src = dirpath+'/'+i, dst = r\"D:\\BNMIT\\6th sem\\DIP\\papers\\mrlEyes_2018_01\\data\\closed\")\n",
    "        elif i.split('_')[4]=='1':\n",
    "            shutil.copy(src = dirpath+'/'+i, dst = r\"D:\\BNMIT\\6th sem\\DIP\\papers\\mrlEyes_2018_01\\data\\open\")"
   ]
  },
  {
   "cell_type": "code",
   "execution_count": 13,
   "metadata": {},
   "outputs": [],
   "source": [
    "import random\n",
    "\n",
    "# Path to the folders containing open and closed eyes images\n",
    "open_eyes_folder = r\"D:\\BNMIT\\6th sem\\DIP\\papers\\mrlEyes_2018_01\\data\\open\"\n",
    "closed_eyes_folder = r\"D:\\BNMIT\\6th sem\\DIP\\papers\\mrlEyes_2018_01\\data\\closed\"\n",
    "\n",
    "# Path to the destination folders for train and test sets\n",
    "train_folder = r\"D:\\BNMIT\\6th sem\\DIP\\papers\\mrlEyes_2018_01\\data\\train\"\n",
    "test_folder = r\"D:\\BNMIT\\6th sem\\DIP\\papers\\mrlEyes_2018_01\\data\\test\"\n",
    "\n",
    "# Percentage of images to be allocated for training\n",
    "train_percentage = 0.9\n",
    "\n",
    "# Function to randomly split the images\n",
    "def split_images(folder, split_ratio):\n",
    "    # Get the list of image filenames in the folder\n",
    "    images = os.listdir(folder)\n",
    "    num_images = len(images)\n",
    "    \n",
    "    # Calculate the number of images to be allocated for training\n",
    "    num_train_images = int(num_images * split_ratio)\n",
    "    \n",
    "    # Randomly shuffle the images\n",
    "    random.shuffle(images)\n",
    "    \n",
    "    # Split the images into train and test sets\n",
    "    train_images = images[:num_train_images]\n",
    "    test_images = images[num_train_images:]\n",
    "    \n",
    "    # Move train images to the train folder\n",
    "    for image in train_images:\n",
    "        src_path = os.path.join(folder, image)\n",
    "        dest_path = os.path.join(train_folder, image)\n",
    "        shutil.move(src_path, dest_path)\n",
    "    \n",
    "    # Move test images to the test folder\n",
    "    for image in test_images:\n",
    "        src_path = os.path.join(folder, image)\n",
    "        dest_path = os.path.join(test_folder, image)\n",
    "        shutil.move(src_path, dest_path)\n",
    "\n",
    "# Split open eyes images\n",
    "split_images(open_eyes_folder, train_percentage)\n",
    "\n",
    "# Split closed eyes images\n",
    "split_images(closed_eyes_folder, train_percentage)\n"
   ]
  },
  {
   "cell_type": "code",
   "execution_count": 24,
   "metadata": {},
   "outputs": [
    {
     "name": "stderr",
     "output_type": "stream",
     "text": [
      "100%|███████████████████████████████████████████████████████████████████████████| 76407/76407 [01:22<00:00, 921.66it/s]\n",
      "  0%|                                                                                        | 0/37751 [00:00<?, ?it/s]\n"
     ]
    }
   ],
   "source": [
    "raw = r\"D:\\BNMIT\\6th sem\\DIP\\papers\\mrlEyes_2018_01\\data\\train\"\n",
    "try:\n",
    "    for dirpath, dirname, filenames in os.walk(raw):\n",
    "        for i in tqdm([f for f in filenames if f.endswith('.png')]):\n",
    "            if i.split('_')[4]=='0':\n",
    "                shutil.copy(src = dirpath+'/'+i, dst = r\"D:\\BNMIT\\6th sem\\DIP\\papers\\mrlEyes_2018_01\\data\\train\\closed\")\n",
    "            elif i.split('_')[4]=='1':\n",
    "                shutil.copy(src = dirpath+'/'+i, dst = r\"D:\\BNMIT\\6th sem\\DIP\\papers\\mrlEyes_2018_01\\data\\train\\open\")\n",
    "except shutil.SameFileError:\n",
    "    pass"
   ]
  },
  {
   "cell_type": "code",
   "execution_count": 25,
   "metadata": {},
   "outputs": [
    {
     "name": "stderr",
     "output_type": "stream",
     "text": [
      "100%|█████████████████████████████████████████████████████████████████████████████| 8491/8491 [00:09<00:00, 907.02it/s]\n",
      "  0%|                                                                                         | 0/4195 [00:00<?, ?it/s]\n"
     ]
    }
   ],
   "source": [
    "raw = r\"D:\\BNMIT\\6th sem\\DIP\\papers\\mrlEyes_2018_01\\data\\test\"\n",
    "try:\n",
    "    for dirpath, dirname, filenames in os.walk(raw):\n",
    "        for i in tqdm([f for f in filenames if f.endswith('.png')]):\n",
    "            if i.split('_')[4]=='0':\n",
    "                shutil.copy(src = dirpath+'/'+i, dst = r\"D:\\BNMIT\\6th sem\\DIP\\papers\\mrlEyes_2018_01\\data\\test\\closed\")\n",
    "            elif i.split('_')[4]=='1':\n",
    "                shutil.copy(src = dirpath+'/'+i, dst = r\"D:\\BNMIT\\6th sem\\DIP\\papers\\mrlEyes_2018_01\\data\\test\\open\")\n",
    "except shutil.SameFileError:\n",
    "    pass"
   ]
  },
  {
   "cell_type": "code",
   "execution_count": null,
   "metadata": {},
   "outputs": [],
   "source": []
  }
 ],
 "metadata": {
  "kernelspec": {
   "display_name": "Python 3",
   "language": "python",
   "name": "python3"
  },
  "language_info": {
   "codemirror_mode": {
    "name": "ipython",
    "version": 3
   },
   "file_extension": ".py",
   "mimetype": "text/x-python",
   "name": "python",
   "nbconvert_exporter": "python",
   "pygments_lexer": "ipython3",
   "version": "3.8.8"
  }
 },
 "nbformat": 4,
 "nbformat_minor": 2
}
